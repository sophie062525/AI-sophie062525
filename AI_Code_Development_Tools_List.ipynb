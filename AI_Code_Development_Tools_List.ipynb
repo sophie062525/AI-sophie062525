{
  "nbformat": 4,
  "nbformat_minor": 0,
  "metadata": {
    "colab": {
      "provenance": [],
      "include_colab_link": true
    },
    "language_info": {
      "name": "python"
    },
    "kernelspec": {
      "name": "python3",
      "display_name": "Python 3"
    }
  },
  "cells": [
    {
      "cell_type": "markdown",
      "metadata": {
        "id": "view-in-github",
        "colab_type": "text"
      },
      "source": [
        "<a href=\"https://colab.research.google.com/github/sophie062525/AI-sophie062525/blob/main/AI_Code_Development_Tools_List.ipynb\" target=\"_parent\"><img src=\"https://colab.research.google.com/assets/colab-badge.svg\" alt=\"Open In Colab\"/></a>"
      ]
    },
    {
      "cell_type": "markdown",
      "metadata": {
        "id": "N5C5dz9tpD_0"
      },
      "source": [
        "# Setup\n",
        "\n",
        "Please ensure you have imported a Gemini API key from AI Studio.\n",
        "You can do this directly in the Secrets tab on the left.\n",
        "\n",
        "After doing so, please run the setup cell below."
      ]
    },
    {
      "cell_type": "code",
      "metadata": {
        "id": "FxW1tv-8pD_5"
      },
      "source": [
        "!pip install -U -q \"google\"\n",
        "!pip install -U -q \"google.genai\"\n",
        "\n",
        "import os\n",
        "from google.colab import userdata\n",
        "from google.colab import drive\n",
        "\n",
        "# Please ensure that uploaded files are available in the AI Studio folder or change the working folder.\n",
        "# Add your API key to the secrets manager in the left panel under the \"🔑\" tab. Name the secret GOOGLE_API_KEY.\n",
        "os.environ[\"GEMINI_API_KEY\"] = userdata.get(\"GOOGLE_API_KEY\")"
      ],
      "execution_count": 6,
      "outputs": []
    },
    {
      "cell_type": "markdown",
      "metadata": {
        "id": "kxgcQG1IpD_6"
      },
      "source": [
        "# Generated Code"
      ]
    },
    {
      "cell_type": "code",
      "metadata": {
        "colab": {
          "base_uri": "https://localhost:8080/",
          "height": 297
        },
        "id": "lEC32j2QpD_7",
        "outputId": "c906eb7d-12fb-4eec-e9ee-fa9781a74a15"
      },
      "source": [
        "# To run this code you need to install the following dependencies:\n",
        "# pip install google-genai\n",
        "\n",
        "import base64\n",
        "import os\n",
        "from google.colab import userdata\n",
        "import google.generativeai as genai\n",
        "from google.generativeai import types\n",
        "\n",
        "\n",
        "def generate():\n",
        "    genai.configure(api_key=userdata.get('GOOGLE_API_KEY'))\n",
        "\n",
        "    model = \"gemini-2.5-flash-lite-preview-06-17\"\n",
        "    contents = [\n",
        "        genai.types.Content(\n",
        "            role=\"user\",\n",
        "            parts=[\n",
        "                genai.types.Part.from_text(text=\"\"\"Please find out similar ai code develop tool like VScode in a list with title, description, ref, link and comments in markdown format. Please modify the prompt and tell me reasons for modification. Ending with follow up questions.\"\"\"),\n",
        "            ],\n",
        "        ),\n",
        "        genai.types.Content(\n",
        "            role=\"model\",\n",
        "            parts=[\n",
        "                genai.types.Part.from_text(text=\"\"\"Okay, I can help with that. You're looking for tools that bring AI capabilities to code development, similar to how VS Code serves as a powerful editor, potentially enhanced by AI extensions or features. You also want the prompt refined and explained.\n",
        "\n",
        "Here are some AI-powered code development tools:\n",
        "\n",
        "### AI Code Development Tools\n",
        "\n",
        "*   **Title:** GitHub Copilot\n",
        "    *   **Description:** An AI pair programmer developed by GitHub and OpenAI that suggests code and entire functions in real-time, directly within the editor. It learns from the context of your code and comments.\n",
        "    *   **Ref:** AI Code Completion / Generation\n",
        "    *   **Link:** [https://github.com/features/copilot](https://github.com/features/copilot)\n",
        "    *   **Comments:** Integrates with VS Code, Visual Studio, JetBrains IDEs, and Neovim. It's a subscription service, though free for verified students and maintainers of popular open-source projects. Can sometimes produce suboptimal or insecure code, requiring developer oversight.\n",
        "\n",
        "*   **Title:** Amazon CodeWhisperer\n",
        "    *   **Description:** An AI coding companion from AWS that provides real-time code recommendations based on comments and existing code, aiming to improve developer productivity and security.\n",
        "    *   **Ref:** AI Code Completion / Generation / Security Scanning\n",
        "    *   **Link:** [https://aws.amazon.com/codewhisperer/](https://aws.amazon.com/codewhisperer/)\n",
        "    *   **Comments:** Currently free for individual use. Supports major IDEs like VS Code, JetBrains IDEs, and AWS Cloud9. Includes features for security scanning and reference tracking for generated code.\n",
        "\n",
        "*   **Title:** Tabnine\n",
        "    *   **Description:** An AI code completion tool that learns from your project patterns and context to offer personalized and accurate code suggestions across many IDEs.\n",
        "    *   **Ref:** AI Code Completion\n",
        "    *   **Link:** [https://www.tabnine.com/](https://www.tabnine.com/)\n",
        "    *   **Comments:** Offers both cloud-based and local AI models for enhanced privacy. Provides free and paid tiers. It focuses strongly on accelerating the autocompletion experience.\n",
        "\n",
        "*   **Title:** Sourcegraph Cody\n",
        "    *   **Description:** An AI coding assistant that understands your entire codebase to provide contextual code suggestions, answer questions about your code, and generate code based on broader context.\n",
        "    *   **Ref:** AI Code Intelligence / Generation / Q&A\n",
        "    *   **Link:** [https://sourcegraph.com/cody](https://sourcegraph.com/cody)\n",
        "    *   **Comments:** Aims for deeper code understanding than simple line completion. Works as an extension in VS Code, JetBrains IDEs, etc. Can be configured for local execution for better privacy.\n",
        "\n",
        "*   **Title:** Replit Ghostwriter\n",
        "    *   **Description:** A suite of AI-powered coding tools integrated directly into the Replit online IDE. Features include code completion, code generation from prompts, code explanation, and code transformation.\n",
        "    *   **Ref:** Integrated AI Coding Suite (IDE)\n",
        "    *   **Link:** [https://replit.com/site/ghostwriter](https://replit.com/site/ghostwriter)\n",
        "    *   **Comments:** Exclusively available within the Replit platform. Typically requires a paid subscription to Replit. Offers a comprehensive AI experience within its cloud-based IDE.\n",
        "\n",
        "*   **Title:** IntelliCode (Microsoft)\n",
        "    *   **Description:** An AI-powered extension for Visual Studio and VS Code that provides context-aware code completions, including whole-line suggestions based on common coding patterns.\n",
        "    *   **Ref:** AI Code Completion / Contextual Suggestions\n",
        "    *   **Link:** [https://docs.microsoft.com/en-us/visualstudio/intellicode/](https://docs.microsoft.com/en-us/visualstudio/intellicode/)\n",
        "    *   **Comments:** Designed to integrate seamlessly into the Visual Studio ecosystem. Most features are available for free. Focuses on improving the quality and contextuality of autocompletions.\n",
        "\n",
        "---\n",
        "\n",
        "### Prompt Modification and Reasoning\n",
        "\n",
        "**Original Prompt:**\n",
        "\\\"Please find out similar ai code develop tool like VScode in a list with title, description, ref, link and comments in markdown format. Please modify the prompt and tell me reasons for modification. Ending with follow up questions.\\\"\n",
        "\n",
        "**Revised Prompt:**\n",
        "\\\"Identify AI-powered code development tools or IDEs that offer features comparable to or augmenting the capabilities of a code editor like VS Code. For each tool, provide:\n",
        "1.  **Title:** The official name of the tool.\n",
        "2.  **Description:** A brief overview highlighting its AI capabilities and developer benefits.\n",
        "3.  **Primary AI Functionality:** The core AI feature(s) (e.g., code completion, generation, analysis, refactoring).\n",
        "4.  **Integration/Platform:** How and where it's used (e.g., IDE extension, standalone IDE, cloud service).\n",
        "5.  **Official Link:** A URL to the tool's official website or main repository.\n",
        "6.  **Key Considerations:** Relevant details such as pricing, target audience, or notable limitations.\n",
        "\n",
        "Present this information clearly in a markdown list. After providing the list, explain the rationale behind this revised prompt's structure and wording, and conclude with relevant follow-up questions.\\\"\n",
        "\n",
        "**Reasons for Modification:**\n",
        "\n",
        "1.  **Clarity on \\\"Like VS Code\\\":** The original prompt's use of \\\"like VS Code\\\" was ambiguous. VS Code is primarily an editor enhanced by extensions. The revised prompt clarifies this by asking for tools that either *augment* existing editors (like VS Code extensions) or are *standalone AI-powered IDEs*, thus broadening the scope appropriately.\n",
        "2.  **Structured Information Fields:**\n",
        "    *   The original field \\\"ref\\\" was unclear in its purpose. It has been replaced by more specific fields: **\\\"Primary AI Functionality\\\"** (what the AI does) and **\\\"Integration/Platform\\\"** (how/where it works). This provides more actionable detail.\n",
        "    *   \\\"Comments\\\" was very general. **\\\"Key Considerations\\\"** guides the response to include more pertinent information like cost, user focus, and potential downsides, making the list more useful for evaluation.\n",
        "3.  **Improved Actionability:** The revised prompt uses clearer action verbs (\\\"Identify,\\\" \\\"Provide\\\") and numbered points for the required information, making the request more precise and easier for an AI to fulfill accurately.\n",
        "4.  **Output Format Refinement:** While maintaining the requested markdown list format, specifying the exact fields to be included in each list item ensures consistency and better organization of the data.\n",
        "\n",
        "---\n",
        "\n",
        "**Follow-up Questions:**\n",
        "\n",
        "1.  Are you more interested in AI tools that act as extensions for editors like VS Code, or standalone AI-powered IDEs?\n",
        "2.  Which specific AI capabilities are most crucial for your needs (e.g., code completion, generating code from natural language descriptions, debugging assistance, code explanation, automated refactoring)?\n",
        "3.  Do you have a preference for specific programming languages or technology stacks?\n",
        "4.  How important is the cost factor? Are you looking for free tools, or are paid/subscription models acceptable?\n",
        "5.  Regarding data privacy, would you prefer tools that offer on-device processing or are you comfortable with cloud-based AI services?\"\"\"),\n",
        "            ],\n",
        "        ),\n",
        "    ]\n",
        "    tools = [\n",
        "        genai.types.Tool(code_execution=genai.types.ToolCodeExecution),\n",
        "    ]\n",
        "    generate_content_config = genai.types.GenerateContentConfig(\n",
        "        thinking_config = genai.types.ThinkingConfig(\n",
        "            thinking_budget=0,\n",
        "        ),\n",
        "        tools=tools,\n",
        "        response_mime_type=\"text/plain\",\n",
        "    )\n",
        "\n",
        "    for chunk in genai.generate_content(\n",
        "        model=model,\n",
        "        contents=contents,\n",
        "        stream=True,\n",
        "        generation_config=generate_content_config,\n",
        "    ):\n",
        "        if (\n",
        "            chunk.candidates is None\n",
        "            or chunk.candidates[0].content is None\n",
        "            or chunk.candidates[0].content.parts is None\n",
        "        ):\n",
        "            continue\n",
        "        if chunk.candidates[0].content.parts[0].text:\n",
        "            print(chunk.candidates[0].content.parts[0].text, end=\"\")\n",
        "        if chunk.candidates[0].content.parts[0].executable_code:\n",
        "            print(chunk.candidates[0].content.parts[0].executable_code)\n",
        "        if chunk.candidates[0].content.parts[0].code_execution_result:\n",
        "            print(chunk.candidates[0].content.parts[0].code_execution_result)\n",
        "\n",
        "if __name__ == \"__main__\":\n",
        "    generate()"
      ],
      "execution_count": 8,
      "outputs": [
        {
          "output_type": "error",
          "ename": "AttributeError",
          "evalue": "module 'google.generativeai.types' has no attribute 'Content'",
          "traceback": [
            "\u001b[0;31m---------------------------------------------------------------------------\u001b[0m",
            "\u001b[0;31mAttributeError\u001b[0m                            Traceback (most recent call last)",
            "\u001b[0;32m/tmp/ipython-input-8-3629400919.py\u001b[0m in \u001b[0;36m<cell line: 0>\u001b[0;34m()\u001b[0m\n\u001b[1;32m    135\u001b[0m \u001b[0;34m\u001b[0m\u001b[0m\n\u001b[1;32m    136\u001b[0m \u001b[0;32mif\u001b[0m \u001b[0m__name__\u001b[0m \u001b[0;34m==\u001b[0m \u001b[0;34m\"__main__\"\u001b[0m\u001b[0;34m:\u001b[0m\u001b[0;34m\u001b[0m\u001b[0;34m\u001b[0m\u001b[0m\n\u001b[0;32m--> 137\u001b[0;31m     \u001b[0mgenerate\u001b[0m\u001b[0;34m(\u001b[0m\u001b[0;34m)\u001b[0m\u001b[0;34m\u001b[0m\u001b[0;34m\u001b[0m\u001b[0m\n\u001b[0m",
            "\u001b[0;32m/tmp/ipython-input-8-3629400919.py\u001b[0m in \u001b[0;36mgenerate\u001b[0;34m()\u001b[0m\n\u001b[1;32m     14\u001b[0m     \u001b[0mmodel\u001b[0m \u001b[0;34m=\u001b[0m \u001b[0;34m\"gemini-2.5-flash-lite-preview-06-17\"\u001b[0m\u001b[0;34m\u001b[0m\u001b[0;34m\u001b[0m\u001b[0m\n\u001b[1;32m     15\u001b[0m     contents = [\n\u001b[0;32m---> 16\u001b[0;31m         genai.types.Content(\n\u001b[0m\u001b[1;32m     17\u001b[0m             \u001b[0mrole\u001b[0m\u001b[0;34m=\u001b[0m\u001b[0;34m\"user\"\u001b[0m\u001b[0;34m,\u001b[0m\u001b[0;34m\u001b[0m\u001b[0;34m\u001b[0m\u001b[0m\n\u001b[1;32m     18\u001b[0m             parts=[\n",
            "\u001b[0;31mAttributeError\u001b[0m: module 'google.generativeai.types' has no attribute 'Content'"
          ]
        }
      ]
    },
    {
      "cell_type": "code",
      "metadata": {
        "colab": {
          "base_uri": "https://localhost:8080/",
          "height": 592
        },
        "id": "1538ede6",
        "outputId": "94aa5a90-1b26-4577-b511-745d90189b48"
      },
      "source": [
        "import google.generativeai as genai\n",
        "from google.colab import userdata\n",
        "\n",
        "# Configure the API key\n",
        "genai.configure(api_key=userdata.get('GOOGLE_API_KEY'))\n",
        "\n",
        "# Choose a model - you might need to list available models to find the correct one\n",
        "# for your use case. For example:\n",
        "# for m in genai.list_models():\n",
        "#   if 'generateContent' in m.supported_generation_methods:\n",
        "#     print(m.name)\n",
        "model = genai.GenerativeModel('gemini-1.5-flash') # Use a different model if needed\n",
        "\n",
        "# Define the prompt\n",
        "prompt = \"\"\"Please find out similar ai code develop tool like VScode in a list with title, description, ref, link and comments in markdown format. Please modify the prompt and tell me reasons for modification. Ending with follow up questions.\"\"\"\n",
        "\n",
        "# Generate content\n",
        "response = model.generate_content(prompt)\n",
        "\n",
        "# Print the response\n",
        "print(response.text)"
      ],
      "execution_count": 10,
      "outputs": [
        {
          "output_type": "stream",
          "name": "stdout",
          "text": [
            "The original prompt was too broad.  \"Similar AI code develop tool like VScode\" is ambiguous because VS Code's strength lies in its extensibility and broad ecosystem, not just AI features.  Many IDEs have *some* AI features, but few match VS Code's overall capabilities.  Therefore, the prompt needs clarification. We'll focus on IDEs with strong AI-assisted coding features.\n",
            "\n",
            "Here's a revised markdown table comparing IDEs with integrated or readily-available AI coding assistance:\n",
            "\n",
            "\n",
            "| Title                     | Description                                                                                                | Ref                                      | Link                                         | Comments                                                                                                         |\n",
            "|--------------------------|------------------------------------------------------------------------------------------------------------|-------------------------------------------|----------------------------------------------|-----------------------------------------------------------------------------------------------------------------|\n",
            "| **VS Code (with extensions)** | Highly customizable editor with vast extension support, including many AI coding assistants (e.g., Tabnine, GitHub Copilot). | Various extension marketplaces              | [https://code.visualstudio.com/](https://code.visualstudio.com/) |  The most versatile option; AI capabilities depend on chosen extensions.  Requires managing extensions.       |\n",
            "| JetBrains IDEs (with AI Assistant) | IntelliJ IDEA, PyCharm, WebStorm, etc. Offer built-in AI assistance through features like code completion and intelligent suggestions.| JetBrains Website                           | [https://www.jetbrains.com/](https://www.jetbrains.com/) | Powerful IDEs with strong native AI features but are generally more resource-intensive and expensive than VS Code.  |\n",
            "| CodeWhisperer (AWS)          | AI coding companion integrated into various IDEs (including VS Code, IntelliJ, etc.).                               | AWS Documentation                           | [https://aws.amazon.com/codewhisperer/](https://aws.amazon.com/codewhisperer/) | Strong AI assistance; requires AWS account.  Free tier available, but usage may be limited.                       |\n",
            "| GitHub Copilot             | AI pair programmer that provides code completions and suggestions. Available as a VS Code extension and others.      | GitHub Documentation                        | [https://github.com/features/copilot](https://github.com/features/copilot) | Popular and powerful, but requires a subscription.                                                              |\n",
            "| Tabnine                     | AI autocompletion tool available as a VS Code extension and other IDEs.                                          | Tabnine Website                             | [https://www.tabnine.com/](https://www.tabnine.com/) | Offers various pricing tiers, including a free plan.                                                             |\n",
            "\n",
            "\n",
            "**Reasons for Modification:**\n",
            "\n",
            "* **Specificity:** The original prompt was too vague.  The revised prompt focuses on IDEs with integrated or easily accessible AI coding assistance.\n",
            "* **Comparison:** The table format allows for a direct comparison of relevant features and limitations.\n",
            "* **Clarity:** The descriptions provide a better understanding of each tool's strengths and weaknesses.\n",
            "\n",
            "\n",
            "**Follow-up Questions:**\n",
            "\n",
            "* What specific AI features are most important to you (e.g., code completion, bug detection, code generation)?\n",
            "* What is your budget for an AI-assisted coding tool?\n",
            "* What programming languages do you primarily use?\n",
            "* What operating system are you using?\n",
            "* Do you prefer a lightweight editor or a full-featured IDE?\n",
            "\n",
            "\n",
            "Answering these questions will help narrow down the best option for your needs.\n",
            "\n"
          ]
        }
      ]
    }
  ]
}